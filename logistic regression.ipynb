{
 "cells": [
  {
   "cell_type": "markdown",
   "metadata": {},
   "source": [
    "### Import required libraries"
   ]
  },
  {
   "cell_type": "code",
   "execution_count": 1,
   "metadata": {},
   "outputs": [],
   "source": [
    "import os\n",
    "import numpy as np\n",
    "import pandas as pd\n",
    "\n",
    "import sklearn.linear_model\n",
    "import sklearn.tree\n",
    "import sklearn.metrics\n",
    "\n",
    "from matplotlib import pyplot as plt\n",
    "import seaborn as sns"
   ]
  },
  {
   "cell_type": "markdown",
   "metadata": {},
   "source": [
    "### 1.1: Compute true/false positives/negatives."
   ]
  },
  {
   "cell_type": "code",
   "execution_count": 2,
   "metadata": {},
   "outputs": [],
   "source": [
    "def calc_TP_TN_FP_FN(ytrue_N, yhat_N):\n",
    "    ''' Compute counts of four possible outcomes of a binary classifier for evaluation.\n",
    "    \n",
    "    Args\n",
    "    ----\n",
    "    ytrue_N : 1D array of floats\n",
    "        Each entry represents the binary value (0 or 1) of 'true' label of one example\n",
    "        One entry per example in current dataset\n",
    "    yhat_N : 1D array of floats\n",
    "        Each entry represents a predicted binary value (either 0 or 1).\n",
    "        One entry per example in current dataset.\n",
    "        Needs to be same size as ytrue_N.\n",
    "\n",
    "    Returns\n",
    "    -------\n",
    "    TP : float\n",
    "        Number of true positives\n",
    "    TN : float\n",
    "        Number of true negatives\n",
    "    FP : float\n",
    "        Number of false positives\n",
    "    FN : float\n",
    "        Number of false negatives\n",
    "    '''\n",
    "    TP = 0.0\n",
    "    TN = 0.0\n",
    "    FP = 0.0\n",
    "    FN = 0.0\n",
    "    \n",
    "    for i in range(len(yhat_N)):\n",
    "        if ytrue_N[i]==yhat_N[i]==1:\n",
    "            TP +=1\n",
    "        if ytrue_N[i]==yhat_N[i]==0:\n",
    "            TN += 1\n",
    "        if yhat_N[i]==1 and ytrue_N[i]==0:\n",
    "            FP +=1\n",
    "        if yhat_N[i]==0 and ytrue_N[i]==1:\n",
    "            FN +=1\n",
    "   \n",
    "    return TP, TN, FP, FN"
   ]
  },
  {
   "cell_type": "markdown",
   "metadata": {},
   "source": [
    "### Supplied functions for later use\n"
   ]
  },
  {
   "cell_type": "code",
   "execution_count": 3,
   "metadata": {},
   "outputs": [],
   "source": [
    "def calc_perf_metrics_for_threshold(ytrue_N, yproba1_N, thresh):\n",
    "    ''' Compute performance metrics for a given probabilistic classifier and threshold\n",
    "    '''\n",
    "    tp, tn, fp, fn = calc_TP_TN_FP_FN(ytrue_N, yproba1_N >= thresh)\n",
    "    ## Compute ACC, TPR, TNR, etc.\n",
    "    acc = (tp + tn) / float(tp + tn + fp + fn + 1e-10)\n",
    "    tpr = tp / float(tp + fn + 1e-10)\n",
    "    tnr = tn / float(fp + tn + 1e-10)\n",
    "    ppv = tp / float(tp + fp + 1e-10)\n",
    "    npv = tn / float(tn + fn + 1e-10)\n",
    "    \n",
    "    return acc, tpr, tnr, ppv, npv\n",
    "\n",
    "def print_perf_metrics_for_threshold(ytrue_N, yproba1_N, thresh):\n",
    "    ''' Pretty print perf. metrics for a given probabilistic classifier and threshold\n",
    "    '''\n",
    "    acc, tpr, tnr, ppv, npv = calc_perf_metrics_for_threshold(ytrue_N, yproba1_N, thresh)\n",
    "    \n",
    "    ## Pretty print the results\n",
    "    print(\"%.3f ACC\" % acc)\n",
    "    print(\"%.3f TPR\" % tpr)\n",
    "    print(\"%.3f TNR\" % tnr)\n",
    "    print(\"%.3f PPV\" % ppv)\n",
    "    print(\"%.3f NPV\" % npv)\n",
    "    \n",
    "    \n",
    "def calc_confusion_matrix_for_threshold(ytrue_N, yproba1_N, thresh):\n",
    "    ''' Compute the confusion matrix for a given probabilistic classifier and threshold\n",
    "    \n",
    "    Args\n",
    "    ----\n",
    "    ytrue_N : 1D array of floats\n",
    "        Each entry represents the binary value (0 or 1) of 'true' label of one example\n",
    "        One entry per example in current dataset\n",
    "    yproba1_N : 1D array of floats\n",
    "        Each entry represents a probability (between 0 and 1) that correct label is positive (1)\n",
    "        One entry per example in current dataset\n",
    "        Needs to be same size as ytrue_N\n",
    "    thresh : float\n",
    "        Scalar threshold for converting probabilities into hard decisions\n",
    "        Calls an example \"positive\" if yproba1 >= thresh\n",
    "\n",
    "    Returns\n",
    "    -------\n",
    "    cm_df : Pandas DataFrame\n",
    "        Can be printed like print(cm_df) to easily display results\n",
    "    '''\n",
    "    cm = sklearn.metrics.confusion_matrix(ytrue_N, yproba1_N >= thresh)\n",
    "    cm_df = pd.DataFrame(data=cm, columns=[0, 1], index=[0, 1])\n",
    "    cm_df.columns.name = 'Predicted'\n",
    "    cm_df.index.name = 'True'\n",
    "    return cm_df"
   ]
  },
  {
   "cell_type": "code",
   "execution_count": 4,
   "metadata": {},
   "outputs": [],
   "source": [
    "def compute_perf_metrics_across_thresholds(ytrue_N, yproba1_N, thresh_grid=None):\n",
    "    ''' Compute common binary classifier performance metrics across many thresholds\n",
    "    \n",
    "    If no array of thresholds is provided, will use all 'unique' values\n",
    "    in the yproba1_N array to define all possible thresholds with different performance.\n",
    "    \n",
    "    Args\n",
    "    ----\n",
    "    ytrue_N : 1D array of floats\n",
    "        Each entry represents the binary value (0 or 1) of 'true' label of one example\n",
    "        One entry per example in current dataset\n",
    "    yproba1_N : 1D array of floats\n",
    "        Each entry represents a probability (between 0 and 1) that correct label is positive (1)\n",
    "        One entry per example in current dataset\n",
    "\n",
    "    Returns\n",
    "    -------\n",
    "    thresh_grid : 1D array of floats\n",
    "        One entry for each possible threshold\n",
    "    perf_dict : dict, with key, value pairs:\n",
    "        * 'acc' : 1D array of accuracy values (one per threshold)\n",
    "        * 'ppv' : 1D array of positive predictive values (one per threshold)\n",
    "        * 'npv' : 1D array of negative predictive values (one per threshold)\n",
    "        * 'tpr' : 1D array of true positive rates (one per threshold)\n",
    "        * 'tnr' : 1D array of true negative rates (one per threshold)\n",
    "    '''\n",
    "    if thresh_grid is None:\n",
    "        bin_edges = np.linspace(0, 1.001, 21)\n",
    "        thresh_grid = np.sort(np.hstack([bin_edges, np.unique(yproba1_N)]))\n",
    "    tpr_grid = np.zeros_like(thresh_grid)\n",
    "    tnr_grid = np.zeros_like(thresh_grid)\n",
    "    ppv_grid = np.zeros_like(thresh_grid)\n",
    "    npv_grid = np.zeros_like(thresh_grid)\n",
    "    acc_grid = np.zeros_like(thresh_grid)\n",
    "    for tt, thresh in enumerate(thresh_grid):\n",
    "        # Apply specific threshold to convert probas into hard binary values (0 or 1)\n",
    "        # Then count number of true positives, true negatives, etc.\n",
    "        # Then compute metrics like accuracy and true positive rate\n",
    "        acc, tpr, tnr, ppv, npv = calc_perf_metrics_for_threshold(ytrue_N, yproba1_N, thresh)\n",
    "        acc_grid[tt] = acc\n",
    "        tpr_grid[tt] = tpr\n",
    "        tnr_grid[tt] = tnr\n",
    "        ppv_grid[tt] = ppv\n",
    "        npv_grid[tt] = npv\n",
    "    return thresh_grid, dict(\n",
    "        acc=acc_grid,\n",
    "        tpr=tpr_grid,\n",
    "        tnr=tnr_grid,\n",
    "        ppv=ppv_grid,\n",
    "        npv=npv_grid)\n",
    "\n",
    "def make_plot_perf_vs_threshold(ytrue_N, yproba1_N, bin_edges=np.linspace(0, 1, 21)):\n",
    "    ''' Make pretty plot of binary classifier performance as threshold increases\n",
    "    \n",
    "    Produces a plot with 3 rows:\n",
    "    * top row: hist of predicted probabilities for negative examples (shaded red)\n",
    "    * middle row: hist of predicted probabilities for positive examples (shaded blue)\n",
    "    * bottom row: line plots of metrics that require hard decisions (ACC, TPR, TNR, etc.)\n",
    "    '''\n",
    "    fig, axes = plt.subplots(nrows=3, ncols=1, figsize=(12, 8))\n",
    "    sns.distplot(\n",
    "        yproba1_N[ytrue_N == 0],\n",
    "        color='r', bins=bin_edges, kde=False, rug=True, ax=axes[0]);\n",
    "    sns.distplot(\n",
    "        yproba1_N[ytrue_N == 1],\n",
    "        color='b', bins=bin_edges, kde=False, rug=True, ax=axes[1]);\n",
    "\n",
    "    thresh_grid, perf_grid = compute_perf_metrics_across_thresholds(ytrue_N, yproba1_N)\n",
    "    axes[2].plot(thresh_grid, perf_grid['acc'], 'k-', label='accuracy')\n",
    "    axes[2].plot(thresh_grid, perf_grid['tpr'], 'b-', label='TPR (recall/sensitivity)')\n",
    "    axes[2].plot(thresh_grid, perf_grid['tnr'], 'g-', label='TNR (specificity)')\n",
    "    axes[2].plot(thresh_grid, perf_grid['ppv'], 'c-', label='PPV (precision)')\n",
    "    axes[2].plot(thresh_grid, perf_grid['npv'], 'm-', label='NPV')\n",
    "    \n",
    "    axes[2].legend()\n",
    "    axes[2].set_ylim([0, 1])"
   ]
  },
  {
   "cell_type": "markdown",
   "metadata": {},
   "source": [
    "### 1.2: Load the dataset."
   ]
  },
  {
   "cell_type": "code",
   "execution_count": 5,
   "metadata": {},
   "outputs": [],
   "source": [
    "# Load 3 feature version of x arrays\n",
    "x_tr_M3 = np.loadtxt('./data_cancer/x_train.csv', delimiter=',', skiprows=1)\n",
    "x_va_N3 = np.loadtxt('./data_cancer/x_valid.csv', delimiter=',', skiprows=1)\n",
    "x_te_N3 = np.loadtxt('./data_cancer/x_test.csv', delimiter=',', skiprows=1)\n",
    "\n",
    "# 2 feature version of x arrays\n",
    "x_tr_M2 = x_tr_M3[:, :2].copy()\n",
    "x_va_N2 = x_va_N3[:, :2].copy()\n",
    "x_te_N2 = x_te_N3[:, :2].copy()"
   ]
  },
  {
   "cell_type": "code",
   "execution_count": 6,
   "metadata": {},
   "outputs": [],
   "source": [
    "y_tr_M = np.loadtxt('./data_cancer/y_train.csv', delimiter=',', skiprows=1)\n",
    "y_va_N = np.loadtxt('./data_cancer/y_valid.csv', delimiter=',', skiprows=1)\n",
    "y_te_N = np.loadtxt('./data_cancer/y_test.csv', delimiter=',', skiprows=1)"
   ]
  },
  {
   "cell_type": "markdown",
   "metadata": {},
   "source": [
    "### 1.3: The predict-0-always baseline\n",
    "\n",
    "#### (a) Compute the accuracy of the always-0 classifier.\n",
    "\n",
    "compute and print the accuracy of the always-0 classifier on validation and test outputs."
   ]
  },
  {
   "cell_type": "code",
   "execution_count": 7,
   "metadata": {},
   "outputs": [
    {
     "name": "stdout",
     "output_type": "stream",
     "text": [
      "Always-0: accuracy on VALID: 0.861\n",
      "Always-0: accuracy on TEST : 0.861\n"
     ]
    }
   ],
   "source": [
    "yhat_N=np.zeros(180,)\n",
    "TP1,TN1,FP, FN=calc_TP_TN_FP_FN(y_va_N, yhat_N)\n",
    "acc1 = (TP1+TN1)/len(y_va_N)\n",
    "TP2,TN2,FP, FN=calc_TP_TN_FP_FN(y_te_N, yhat_N)\n",
    "acc2 = (TP2+TN2)/len(y_te_N)\n",
    "\n",
    "print(\"Always-0: accuracy on VALID: %.3f\" % acc1) \n",
    "print(\"Always-0: accuracy on TEST : %.3f\" % acc2)"
   ]
  },
  {
   "cell_type": "markdown",
   "metadata": {},
   "source": [
    "#### (b) Print a confusion matrix for the always-0 classifier.\n",
    "\n",
    "generate a confusion matrix for the always-0 classifier on the validation set."
   ]
  },
  {
   "cell_type": "code",
   "execution_count": 8,
   "metadata": {},
   "outputs": [
    {
     "name": "stdout",
     "output_type": "stream",
     "text": [
      "Predicted    0  1\n",
      "True             \n",
      "0          155  0\n",
      "1           25  0\n"
     ]
    }
   ],
   "source": [
    "yproba1_N=np.zeros(180,)\n",
    "print(calc_confusion_matrix_for_threshold(y_va_N, yproba1_N, thresh=1.0))"
   ]
  },
  {
   "cell_type": "markdown",
   "metadata": {},
   "source": [
    "The accuracy of the alwasy-0 classifier seems decent. However, I wouldn't use this classifier in this problem, because we should care about picking out those people who actual have cancer."
   ]
  },
  {
   "cell_type": "markdown",
   "metadata": {},
   "source": [
    "### 1.4: Logistic Regression\n",
    "\n",
    "#### (a) Create a set of `LogisticRegression` models.\n",
    "\n",
    "Each model will use a different control parameter, `C`, and each will be fit to 2-feature data.  Probabilistic predictions will be made on both training set and validation set inputs, and logistic-loss for each will be recorded."
   ]
  },
  {
   "cell_type": "code",
   "execution_count": 9,
   "metadata": {},
   "outputs": [
    {
     "name": "stdout",
     "output_type": "stream",
     "text": [
      "31.622776601683793\n"
     ]
    },
    {
     "data": {
      "text/plain": [
       "LogisticRegression(C=31.622776601683793, class_weight=None, dual=False,\n",
       "                   fit_intercept=True, intercept_scaling=1, l1_ratio=None,\n",
       "                   max_iter=100, multi_class='warn', n_jobs=None, penalty='l2',\n",
       "                   random_state=0, solver='liblinear', tol=0.0001, verbose=0,\n",
       "                   warm_start=False)"
      ]
     },
     "execution_count": 9,
     "metadata": {},
     "output_type": "execute_result"
    }
   ],
   "source": [
    "tr_loss_list = list()\n",
    "va_loss_list = list()\n",
    "\n",
    "C_grid = np.logspace(-9, 6, 31)\n",
    "\n",
    "for C in C_grid:\n",
    "    \n",
    "    logreg = sklearn.linear_model.LogisticRegression(penalty='l2', C=C, solver='liblinear',random_state = 0)     \n",
    "    logreg.fit(x_tr_M2, y_tr_M) # fit model\n",
    "    # make class predictions for the testing set\n",
    "    y_pred_proba = logreg.predict_proba(x_tr_M2)[:,1] # convention\n",
    "    loss = sklearn.metrics.log_loss(y_tr_M, y_pred_proba)\n",
    "    tr_loss_list.append(loss)\n",
    "    \n",
    "    y_pred_proba2 = logreg.predict_proba(x_va_N2)[:,1] # convention\n",
    "    loss2 = sklearn.metrics.log_loss(y_va_N, y_pred_proba2)\n",
    "    va_loss_list.append(loss2)\n",
    "\n",
    "\n",
    "\n",
    "best_va = np.argmin(va_loss_list)\n",
    "best_va_c = C_grid[best_va]\n",
    "print(best_va_c)\n",
    "bestmodel_va = sklearn.linear_model.LogisticRegression(penalty='l2', C=best_va_c, solver='liblinear',random_state = 0) \n",
    "bestmodel_va "
   ]
  },
  {
   "cell_type": "code",
   "execution_count": 10,
   "metadata": {},
   "outputs": [
    {
     "data": {
      "text/plain": [
       "[<matplotlib.lines.Line2D at 0x20be5a93908>]"
      ]
     },
     "execution_count": 10,
     "metadata": {},
     "output_type": "execute_result"
    },
    {
     "data": {
      "image/png": "[encoded data removed]",
      "text/plain": [
       "<Figure size 432x288 with 1 Axes>"
      ]
     },
     "metadata": {
      "needs_background": "light"
     },
     "output_type": "display_data"
    }
   ],
   "source": [
    "C_grid\n",
    "plt.plot(C_grid)"
   ]
  },
  {
   "cell_type": "markdown",
   "metadata": {},
   "source": [
    "#### Plot logistic loss (y-axis) vs. C (x-axis) on the training set and validation set."
   ]
  },
  {
   "cell_type": "code",
   "execution_count": 11,
   "metadata": {},
   "outputs": [
    {
     "name": "stdout",
     "output_type": "stream",
     "text": [
      "Best C-value for LR with 2-feature data: 31.623\n",
      "Validation set log-loss at best C-value: 0.3549\n"
     ]
    },
    {
     "data": {
      "image/png": "[encoded data removed]",
      "text/plain": [
       "<Figure size 432x288 with 1 Axes>"
      ]
     },
     "metadata": {
      "needs_background": "light"
     },
     "output_type": "display_data"
    }
   ],
   "source": [
    "plt.xlabel('log10(C)');\n",
    "plt.ylabel('logistic loss');\n",
    "plt.ylim([0.0, 0.7]);\n",
    "\n",
    "plt.plot(np.log10(C_grid),tr_loss_list,marker='o')\n",
    "plt.plot(np.log10(C_grid),va_loss_list,c=\"red\",marker='+')\n",
    "\n",
    "min_logloss = sorted(va_loss_list)[0]\n",
    "\n",
    "print(\"Best C-value for LR with 2-feature data: %.3f\" % best_va_c)\n",
    "print(\"Validation set log-loss at best C-value: %.4f\" % min_logloss)"
   ]
  },
  {
   "cell_type": "markdown",
   "metadata": {},
   "source": [
    "#### (b) Plot the performance of the predictions made by the best classifier from step (a) on the validation set."
   ]
  },
  {
   "cell_type": "code",
   "execution_count": 12,
   "metadata": {},
   "outputs": [
    {
     "data": {
      "image/png": "[encoded data removed]",
      "text/plain": [
       "<Figure size 864x576 with 3 Axes>"
      ]
     },
     "metadata": {
      "needs_background": "light"
     },
     "output_type": "display_data"
    }
   ],
   "source": [
    "bestmodel_va.fit(x_tr_M2, y_tr_M) \n",
    "y_pred = bestmodel_va.predict_proba(x_va_N2)[:,1]\n",
    "\n",
    "make_plot_perf_vs_threshold(y_va_N, y_pred, bin_edges=np.linspace(0, 1, 21))"
   ]
  },
  {
   "cell_type": "markdown",
   "metadata": {},
   "source": [
    "#### (c) Model fitting with 3-feature data"
   ]
  },
  {
   "cell_type": "code",
   "execution_count": 13,
   "metadata": {},
   "outputs": [
    {
     "data": {
      "text/plain": [
       "LogisticRegression(C=1000000.0, class_weight=None, dual=False,\n",
       "                   fit_intercept=True, intercept_scaling=1, l1_ratio=None,\n",
       "                   max_iter=100, multi_class='warn', n_jobs=None, penalty='l2',\n",
       "                   random_state=0, solver='liblinear', tol=0.0001, verbose=0,\n",
       "                   warm_start=False)"
      ]
     },
     "execution_count": 13,
     "metadata": {},
     "output_type": "execute_result"
    }
   ],
   "source": [
    "tr_loss_list3 = list()\n",
    "va_loss_list3 = list()\n",
    "\n",
    "C_grid = np.logspace(-9, 6, 31)\n",
    "\n",
    "# Build and evaluate model for each value C\n",
    "for C in C_grid:\n",
    "    \n",
    "    logreg = sklearn.linear_model.LogisticRegression(penalty='l2', C=C, solver='liblinear',random_state = 0)     \n",
    "    logreg.fit(x_tr_M3, y_tr_M) # fit model\n",
    "    y_pred_proba = logreg.predict_proba(x_tr_M3)[:,1] # convention\n",
    "    loss = sklearn.metrics.log_loss(y_tr_M, y_pred_proba)\n",
    "    tr_loss_list3.append(loss)\n",
    "    \n",
    "    # make class predictions for the testing set\n",
    "    y_pred_proba2 = logreg.predict_proba(x_va_N3)[:,1] # convention\n",
    "    loss2 = sklearn.metrics.log_loss(y_va_N, y_pred_proba2)\n",
    "    va_loss_list3.append(loss2)\n",
    "\n",
    "\n",
    "# bestmodel_tr = sklearn.linear_model.LogisticRegression(penalty='l2', C=best_tr_c, solver='liblinear',random_state = 0) \n",
    "\n",
    "best_va3 = np.argmin(va_loss_list3)\n",
    "best_va_c3 = C_grid[best_va3]\n",
    "bestmodel_va3 = sklearn.linear_model.LogisticRegression(penalty='l2', C=best_va_c3, solver='liblinear',random_state = 0) \n",
    "bestmodel_va3"
   ]
  },
  {
   "cell_type": "markdown",
   "metadata": {},
   "source": [
    "#### Plot logistic loss (y-axis) vs. C (x-axis) for the 3-feature classifiers on the training set and validation set.\n"
   ]
  },
  {
   "cell_type": "code",
   "execution_count": 14,
   "metadata": {},
   "outputs": [
    {
     "name": "stdout",
     "output_type": "stream",
     "text": [
      "Best C-value for LR with 3-feature data: 30.000\n",
      "Validation set log-loss at best C-value: 0.3549\n"
     ]
    },
    {
     "data": {
      "image/png": "[encoded data removed]",
      "text/plain": [
       "<Figure size 432x288 with 1 Axes>"
      ]
     },
     "metadata": {
      "needs_background": "light"
     },
     "output_type": "display_data"
    }
   ],
   "source": [
    "plt.xlabel('log10(C)');\n",
    "plt.ylabel('logistic loss');\n",
    "plt.ylim([0.0, 0.7]);\n",
    "\n",
    "plt.plot(np.log10(C_grid),tr_loss_list3,marker='o')\n",
    "plt.plot(np.log10(C_grid),va_loss_list3,c=\"red\",marker='+')\n",
    "\n",
    "min_logloss = sorted(va_loss_list)[0]\n",
    "\n",
    "print(\"Best C-value for LR with 3-feature data: %.3f\" % best_va3) \n",
    "print(\"Validation set log-loss at best C-value: %.4f\" % min_logloss)"
   ]
  },
  {
   "cell_type": "markdown",
   "metadata": {},
   "source": [
    "#### Plot the performance of the predictions made by the best 3-valued classifier on the validation set."
   ]
  },
  {
   "cell_type": "code",
   "execution_count": 15,
   "metadata": {},
   "outputs": [
    {
     "data": {
      "image/png": "[encoded data removed]",
      "text/plain": [
       "<Figure size 864x576 with 3 Axes>"
      ]
     },
     "metadata": {
      "needs_background": "light"
     },
     "output_type": "display_data"
    }
   ],
   "source": [
    "\n",
    "bestmodel_va3.fit(x_tr_M3, y_tr_M) \n",
    "y_pred = bestmodel_va3.predict_proba(x_va_N3)[:,1]\n",
    "make_plot_perf_vs_threshold(y_va_N, y_pred, bin_edges=np.linspace(0, 1, 21))"
   ]
  },
  {
   "cell_type": "markdown",
   "metadata": {},
   "source": [
    "### 1.5: ROC Curves\n",
    "\n",
    "These curves allow us to compare model performance in terms of trade-offs between false positive and true positive results.\n",
    "\n",
    "#### (a) Plot ROC curves on the validation set.\n"
   ]
  },
  {
   "cell_type": "code",
   "execution_count": 16,
   "metadata": {},
   "outputs": [
    {
     "data": {
      "image/png": "[encoded data removed]",
      "text/plain": [
       "<Figure size 432x288 with 1 Axes>"
      ]
     },
     "metadata": {
      "needs_background": "light"
     },
     "output_type": "display_data"
    }
   ],
   "source": [
    "\n",
    "fpr1, tpr1, thresholds1 =sklearn.metrics.roc_curve(y_va_N, bestmodel_va.predict_proba(x_va_N2)[:,1])\n",
    "fpr2, tpr2, thresholds2 =sklearn.metrics.roc_curve(y_va_N, bestmodel_va3.predict_proba(x_va_N3)[:,1])\n",
    "plt.plot(fpr1, tpr1)\n",
    "plt.plot(fpr2, tpr2,c=\"red\")\n",
    "\n",
    "plt.ylim([0, 1]);\n",
    "plt.xlabel(\"False Postive rate (FPR = 1 - TPR)\");\n",
    "plt.ylabel(\"True Postive rate (TPR)\");"
   ]
  },
  {
   "cell_type": "markdown",
   "metadata": {},
   "source": [
    "#### (b) Plot ROC curves on the test set."
   ]
  },
  {
   "cell_type": "code",
   "execution_count": 17,
   "metadata": {},
   "outputs": [
    {
     "data": {
      "image/png": "[encoded data removed]",
      "text/plain": [
       "<Figure size 432x288 with 1 Axes>"
      ]
     },
     "metadata": {
      "needs_background": "light"
     },
     "output_type": "display_data"
    }
   ],
   "source": [
    "fpr1, tpr1, thresholds1 =sklearn.metrics.roc_curve(y_te_N, bestmodel_va.predict_proba(x_te_N2)[:,1])\n",
    "fpr2, tpr2, thresholds2 =sklearn.metrics.roc_curve(y_te_N, bestmodel_va3.predict_proba(x_te_N3)[:,1])\n",
    "plt.plot(fpr1, tpr1)\n",
    "plt.plot(fpr2, tpr2,c=\"red\")\n",
    "\n",
    "\n",
    "plt.ylim([0, 1]);\n",
    "plt.xlabel(\"False Postive rate (FPR = 1 - TPR)\");\n",
    "plt.ylabel(\"True Postive rate (TPR)\");"
   ]
  },
  {
   "cell_type": "markdown",
   "metadata": {},
   "source": [
    "A perfect classifier would give us 100% success for true positives, with a 0% rate of false ones, so the ROC curve that skewered left-top indicates that this model performance better. From our plots, we can know that the model with 3-feature dominates 2-feature one. Obviously, the area under the ROC will also be greater. Thus, it tells that the last feature provides more information and we should use 3 features to build the model."
   ]
  },
  {
   "cell_type": "markdown",
   "metadata": {},
   "source": [
    "### 1.6: Selecting a decision threshold\n",
    "\n",
    "#### (a) Using default 0.5 threshold. \n",
    "\n",
    "Generate a confusion matrix for the best 3-feature logistic model on the test set, using threshold 0.5 to start."
   ]
  },
  {
   "cell_type": "code",
   "execution_count": 18,
   "metadata": {},
   "outputs": [
    {
     "name": "stdout",
     "output_type": "stream",
     "text": [
      "ON THE VALIDATION SET:\n",
      "Chosen best thr = 0.5000\n",
      "\n",
      "ON THE TEST SET:\n",
      "Predicted    0   1\n",
      "True              \n",
      "0          152   3\n",
      "1           15  10\n",
      "\n",
      "0.900 ACC\n",
      "0.400 TPR\n",
      "0.981 TNR\n",
      "0.769 PPV\n",
      "0.910 NPV\n"
     ]
    }
   ],
   "source": [
    "best_thr = 0.5\n",
    "\n",
    "print(\"ON THE VALIDATION SET:\")\n",
    "print(\"Chosen best thr = %.4f\" % best_thr)\n",
    "print(\"\")\n",
    "print(\"ON THE TEST SET:\")\n",
    "\n",
    "print(calc_confusion_matrix_for_threshold(y_te_N, bestmodel_va3.predict_proba(x_te_N3)[:,1], best_thr))\n",
    "print(\"\")\n",
    "\n",
    "print_perf_metrics_for_threshold(y_te_N, bestmodel_va3.predict_proba(x_te_N3)[:,1], best_thr)"
   ]
  },
  {
   "cell_type": "markdown",
   "metadata": {},
   "source": [
    "#### (b) Pick a threshold to maximize TPR, while ensuring PPV >= 0.98.\n",
    "\n",
    "After finding the best threshold on the validation set, plot its confusion matrix and print its various performance metrics, for the test set."
   ]
  },
  {
   "cell_type": "code",
   "execution_count": 19,
   "metadata": {},
   "outputs": [
    {
     "name": "stdout",
     "output_type": "stream",
     "text": [
      "ON THE VALIDATION SET:\n",
      "Chosen best thr = 0.6290\n",
      "\n",
      "ON THE TEST SET:\n",
      "Predicted    0  1\n",
      "True             \n",
      "0          155  0\n",
      "1           20  5\n",
      "\n",
      "0.889 ACC\n",
      "0.200 TPR\n",
      "1.000 TNR\n",
      "1.000 PPV\n",
      "0.886 NPV\n"
     ]
    }
   ],
   "source": [
    "thresh_grid, perf_grid = compute_perf_metrics_across_thresholds(y_va_N, bestmodel_va3.predict_proba(x_va_N3)[:,1])\n",
    "\n",
    "index = []\n",
    "for i in range(len(thresh_grid)):\n",
    "    if perf_grid[\"ppv\"][i] >= 0.98:\n",
    "        index.append(i)\n",
    "max_index = index[np.argmax(perf_grid[\"tpr\"][index])]\n",
    "best_thr = thresh_grid[max_index]\n",
    "\n",
    "print(\"ON THE VALIDATION SET:\")\n",
    "print(\"Chosen best thr = %.4f\" % best_thr)\n",
    "print(\"\")\n",
    "print(\"ON THE TEST SET:\")\n",
    "\n",
    "print(calc_confusion_matrix_for_threshold(y_te_N, bestmodel_va3.predict_proba(x_te_N3)[:,1], best_thr))\n",
    "print(\"\")\n",
    "\n",
    "print_perf_metrics_for_threshold(y_te_N, bestmodel_va3.predict_proba(x_te_N3)[:,1], best_thr)"
   ]
  },
  {
   "cell_type": "markdown",
   "metadata": {},
   "source": [
    "#### (c) Pick a threshold to maximize PPV, while ensuring TPR >= 0.98.\n",
    "\n",
    "After finding the best threshold on the validation set, plot its confusion matrix and print its various performance metrics, for the test set."
   ]
  },
  {
   "cell_type": "code",
   "execution_count": 20,
   "metadata": {},
   "outputs": [
    {
     "name": "stdout",
     "output_type": "stream",
     "text": [
      "ON THE VALIDATION SET:\n",
      "Chosen best thr = 0.0300\n",
      "\n",
      "ON THE TEST SET:\n",
      "Predicted   0   1\n",
      "True             \n",
      "0          57  98\n",
      "1           0  25\n",
      "\n",
      "0.456 ACC\n",
      "1.000 TPR\n",
      "0.368 TNR\n",
      "0.203 PPV\n",
      "1.000 NPV\n"
     ]
    }
   ],
   "source": [
    "thresh_grid, perf_grid = compute_perf_metrics_across_thresholds(y_va_N, bestmodel_va3.predict_proba(x_va_N3)[:,1])\n",
    "\n",
    "index = []\n",
    "for i in range(len(thresh_grid)):\n",
    "    if perf_grid[\"tpr\"][i] >= 0.98:\n",
    "        index.append(i)\n",
    "max_index = index[np.argmax(perf_grid[\"ppv\"][index])]\n",
    "best_thr = thresh_grid[max_index]\n",
    "\n",
    "\n",
    "print(\"ON THE VALIDATION SET:\")\n",
    "print(\"Chosen best thr = %.4f\" % best_thr) \n",
    "print(\"\")\n",
    "print(\"ON THE TEST SET:\")\n",
    "\n",
    "print(calc_confusion_matrix_for_threshold(y_te_N, bestmodel_va3.predict_proba(x_te_N3)[:,1], best_thr))\n",
    "print(\"\")\n",
    "\n",
    "print_perf_metrics_for_threshold(y_te_N, bestmodel_va3.predict_proba(x_te_N3)[:,1], best_thr)"
   ]
  },
  {
   "cell_type": "markdown",
   "metadata": {},
   "source": [
    "The threshold to maximize TPR,while ensuring PPV >= 0.98 gives us a good accuracy; however, we got lower TPR which might cause false prediction on patients who really have cancer. To avoid life-threatening mistake, I will choose 0.03 to be the best thresholds."
   ]
  }
 ],
 "metadata": {
  "kernelspec": {
   "display_name": "Python 3",
   "language": "python",
   "name": "python3"
  },
  "language_info": {
   "codemirror_mode": {
    "name": "ipython",
    "version": 3
   },
   "file_extension": ".py",
   "mimetype": "text/x-python",
   "name": "python",
   "nbconvert_exporter": "python",
   "pygments_lexer": "ipython3",
   "version": "3.7.3"
  }
 },
 "nbformat": 4,
 "nbformat_minor": 2
}
